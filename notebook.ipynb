{
  "cells": [
    {
      "metadata": {
        "_cell_guid": "b1076dfc-b9ad-4769-8c92-a6c4dae69d19",
        "_uuid": "8f2839f25d086af736a60e9eeb907d3b93b6e0e5",
        "trusted": false,
        "collapsed": true
      },
      "cell_type": "code",
      "source": "# This Python 3 environment comes with many helpful analytics libraries installed\n# It is defined by the kaggle/python docker image: https://github.com/kaggle/docker-python\n# For example, here's several helpful packages to load in \n\nimport numpy as np # linear algebra\nimport pandas as pd # data processing, CSV file I/O (e.g. pd.read_csv)\n\n# Input data files are available in the \"../input/\" directory.\n# For example, running this (by clicking run or pressing Shift+Enter) will list the files in the input directory\n\nimport os\nprint(os.listdir(\"../input\"))\n\n# Any results you write to the current directory are saved as output.",
      "execution_count": null,
      "outputs": []
    },
    {
      "metadata": {
        "_cell_guid": "79c7e3d0-c299-4dcb-8224-4455121ee9b0",
        "_uuid": "d629ff2d2480ee46fbb7e2d37f6b5fab8052498a",
        "trusted": false,
        "collapsed": true
      },
      "cell_type": "code",
      "source": "import gc\nfrom tqdm import tqdm\nimport matplotlib.pyplot as plt\nimport seaborn as sns\nfrom matplotlib_venn import venn2, venn2_circles\nimport string\nfrom sklearn.model_selection import train_test_split\nfrom sklearn.metrics import mean_squared_error\nfrom sklearn.preprocessing import LabelEncoder\nfrom sklearn.feature_extraction.text import CountVectorizer, TfidfVectorizer\nimport nltk\nfrom nltk.corpus import stopwords\nimport scipy\nimport lightgbm as lgb\nfrom math import sqrt\nfrom sklearn.linear_model import Ridge\nfrom sklearn.cross_validation import KFold\nfrom sklearn import feature_selection\nfrom sklearn.pipeline import FeatureUnion\n\nsns.set()\n%matplotlib inline",
      "execution_count": null,
      "outputs": []
    },
    {
      "metadata": {
        "collapsed": true,
        "_cell_guid": "8e4a8cce-9d93-4fbe-aacd-5df9e3585abd",
        "_uuid": "9250e45a16e7db5e6b0bdbdb27db911f67377205",
        "trusted": false
      },
      "cell_type": "code",
      "source": "SEED = 25\nNFOLDS = 5",
      "execution_count": null,
      "outputs": []
    },
    {
      "metadata": {
        "collapsed": true,
        "_cell_guid": "5099a376-16a3-448e-b0f8-34b50344eb40",
        "_uuid": "e084c137fd3a8d43161b583395df53740c378c27",
        "trusted": false
      },
      "cell_type": "code",
      "source": "train = pd.read_csv('../input/train-normalized/train_norm.csv',index_col = \"item_id\", parse_dates = [\"activation_date\"])\ntest = pd.read_csv('../input/train-normalized/test_norm.csv', index_col = \"item_id\", parse_dates = [\"activation_date\"])",
      "execution_count": null,
      "outputs": []
    },
    {
      "metadata": {
        "collapsed": true,
        "_cell_guid": "d2a4037f-3322-49f3-96e6-dec4618081b2",
        "_uuid": "d467d3fc074e980980ed7219378381a12869a7e9",
        "trusted": false
      },
      "cell_type": "code",
      "source": "user_feat = pd.read_csv('../input/user-features/user_features.csv')",
      "execution_count": null,
      "outputs": []
    },
    {
      "metadata": {
        "_cell_guid": "307e174d-cc9f-4710-91bb-b61a3b295965",
        "_uuid": "fd4763a42f5fc7da847b1ce7bfffeb851c0d405e",
        "trusted": false,
        "collapsed": true
      },
      "cell_type": "code",
      "source": "train.shape",
      "execution_count": null,
      "outputs": []
    },
    {
      "metadata": {
        "_cell_guid": "b0c5d4d5-6308-4cad-b27e-8b944d1574bd",
        "_uuid": "c4e2e2a8b909a91652cba194f46b239898f9f25b",
        "trusted": false,
        "collapsed": true
      },
      "cell_type": "code",
      "source": "train.head()",
      "execution_count": null,
      "outputs": []
    },
    {
      "metadata": {
        "collapsed": true,
        "_cell_guid": "6942c6b7-bc15-4775-b98f-02e06a3cc426",
        "_uuid": "aecaaf1300d45274822147f4d6c082486a6ac53e",
        "trusted": false
      },
      "cell_type": "code",
      "source": "train = train.merge(user_feat, on='user_id', how='left')\ntest = test.merge(user_feat, on='user_id', how='left')",
      "execution_count": null,
      "outputs": []
    },
    {
      "metadata": {
        "collapsed": true,
        "_cell_guid": "5c98192c-1258-454b-b694-87de01322fc7",
        "_uuid": "c0ae72796d681fc0e57cdf1fc03d426e89cc7afb",
        "trusted": false
      },
      "cell_type": "code",
      "source": "ntrain = train.shape[0]\nntest = test.shape[0]\n\nkf = KFold(ntrain, n_folds=5, shuffle=True, random_state=SEED)\ny = train.deal_probability.copy()",
      "execution_count": null,
      "outputs": []
    },
    {
      "metadata": {
        "collapsed": true,
        "_cell_guid": "aa64cdb6-edc2-4884-8023-2301f1a73448",
        "_uuid": "db762198d400d7523a8b76e05c0fe24aed7940e2",
        "trusted": false
      },
      "cell_type": "code",
      "source": "count = lambda l1,l2: sum([1 for x in l1 if x in l2])\nagg_cols = list(user_feat.columns)[1:]",
      "execution_count": null,
      "outputs": []
    },
    {
      "metadata": {
        "collapsed": true,
        "_cell_guid": "531e5169-f8f4-426b-9d7a-a7131e7b1b0a",
        "_uuid": "3e3d35f27bf52cc46b27cec32ab4960965f876d7",
        "trusted": false
      },
      "cell_type": "code",
      "source": "del user_feat\ngc.collect()",
      "execution_count": null,
      "outputs": []
    },
    {
      "metadata": {
        "collapsed": true,
        "_cell_guid": "869d9a22-500a-4541-8bb6-9f1635f5f246",
        "_uuid": "012e5d20be3068156b8bb1048c93b2f5014d8931",
        "trusted": false
      },
      "cell_type": "code",
      "source": "stop_words= set(stopwords.words('russian'))",
      "execution_count": null,
      "outputs": []
    },
    {
      "metadata": {
        "collapsed": true,
        "_cell_guid": "b8a55d2f-3d9f-4fbe-b7bb-2c84407d79d5",
        "_uuid": "46b2ccf1ab1d60d28bd07b0b3bd51ce3c7fb442d",
        "trusted": false
      },
      "cell_type": "code",
      "source": "count = lambda l1,l2: sum([1 for x in l1 if x in l2])\n\nfor df in [train, test]:\n\n    df['description'].fillna('unknowndescription', inplace=True)\n    df['title'].fillna('unknowntitle', inplace=True)\n    df['param_1'].fillna('unknownparam1', inplace=True)\n    df['param_2'].fillna('unknownparam2', inplace=True)\n    df['param_3'].fillna('unknownparam3', inplace=True)\n   \n    df['weekday'] = pd.to_datetime(df['activation_date']).dt.day\n    df[\"Weekd of Year\"] = pd.to_datetime(df['activation_date']).dt.week\n    df[\"Day of Month\"] = pd.to_datetime(df['activation_date']).dt.day\n\n    for col in ['description', 'title']:\n        df['num_chars_' + col] = df[col].apply(len)\n        df['num_words_' + col] = df[col].apply(lambda comment: len(comment.split()))\n        df['num_unique_words_' + col] = df[col].apply(lambda comment: len(set(w for w in comment.split())))\n#        df['title_word_coun_' + col] = df['description'].apply(lambda x: len([wrd for wrd in x.split() if wrd.istitle()]))\n#        df['upper_case_word_count_' + col] = df['description'].apply(lambda x: len([wrd for wrd in x.split() if wrd.isupper()]))\n#        df['stopword_count_' + col] = df['description'].apply(lambda x: len([wrd for wrd in x.split() if wrd.lower() in stop_words ]))\n#        df['num_desc_punct_' + col] = df['description'].apply(lambda x: count(x, set(string.punctuation)))\n\n    df['words_vs_unique_title'] = df['num_unique_words_title'] / df['num_words_title'] * 100\n    df['words_vs_unique_description'] = df['num_unique_words_description'] / df['num_words_description'] * 100\n\n    df['city'] = df['region'] + '_' + df['city']              ##combine city and region\n    \n    for col in agg_cols:\n        df[col].fillna(-1, inplace=True)\n    df[\"price\"] = np.log(df[\"price\"]+0.001)\n    df[\"price\"].fillna(-999,inplace=True)\n\n    ",
      "execution_count": null,
      "outputs": []
    },
    {
      "metadata": {
        "_cell_guid": "841c9f50-7798-4808-9aab-a8717f4b0d3b",
        "_uuid": "9552cc69789d7d2e9c319f88f28e708b26e78782"
      },
      "cell_type": "markdown",
      "source": "Tf - IDF"
    },
    {
      "metadata": {
        "collapsed": true,
        "_cell_guid": "bc3cd984-2e03-47b1-b7ef-cc19118ffb8e",
        "_uuid": "2c83892065218ffa6a570ad8da9a332c9d7ffcca",
        "trusted": false
      },
      "cell_type": "code",
      "source": "count_vectorizer_title = CountVectorizer(stop_words=stopwords.words('russian'), lowercase=True, min_df=10)\n\ntitle_counts = count_vectorizer_title.fit_transform(train['title'].append(test['title']))\n\ntrain_title_counts = title_counts[:len(train)]\ntest_title_counts = title_counts[len(train):]\n\n\ncount_vectorizer_desc = TfidfVectorizer(stop_words=stopwords.words('russian'), \n                                        lowercase=True, ngram_range=(1, 2),\n                                        max_features=18000)\n\ndesc_counts = count_vectorizer_desc.fit_transform(train['description'].append(test['description']))\n\ntrain_desc_counts = desc_counts[:len(train)]\ntest_desc_counts = desc_counts[len(train):]\n\ntrain_title_counts.shape, train_desc_counts.shape",
      "execution_count": null,
      "outputs": []
    },
    {
      "metadata": {
        "collapsed": true,
        "_cell_guid": "5a851edd-06ea-4d7e-95ee-cd4fa83f84fa",
        "_uuid": "4ae5b7401560fb0c6f9ff8bd7c5b3298f4c54d43",
        "trusted": false
      },
      "cell_type": "code",
      "source": "ready_train = scipy.sparse.hstack([ train_desc_counts,train_title_counts], format='csr')\nready_test = scipy.sparse.hstack([ test_desc_counts,test_title_counts], format='csr')",
      "execution_count": null,
      "outputs": []
    },
    {
      "metadata": {
        "collapsed": true,
        "_cell_guid": "49df591b-1209-432b-9787-5145da850c9f",
        "_uuid": "f395741a3336255823591827d391c206f7bfba83",
        "trusted": false
      },
      "cell_type": "code",
      "source": "target = 'deal_probability'\ncategorical = [\n    'image_top_1', 'param_1', 'param_2', 'param_3', \n    'city', 'region', 'category_name', 'parent_category_name', 'user_type','user_id'\n]",
      "execution_count": null,
      "outputs": []
    },
    {
      "metadata": {
        "collapsed": true,
        "_cell_guid": "03eec214-5c86-4842-b271-45197434c973",
        "_uuid": "63d1a11469e39f3cd87e4f7450c6842c788bfcda",
        "trusted": false
      },
      "cell_type": "code",
      "source": "for feature in categorical:\n    print(f'Transforming {feature}...')\n    encoder = LabelEncoder()\n    encoder.fit(train[feature].append(test[feature]).astype(str))\n    \n    train[feature] = encoder.transform(train[feature].astype(str))\n    test[feature] = encoder.transform(test[feature].astype(str))",
      "execution_count": null,
      "outputs": []
    },
    {
      "metadata": {
        "collapsed": true,
        "_cell_guid": "b80b3fe7-5c6e-4d7b-bb9b-5bbe1ee2d7f7",
        "_uuid": "c46cd24c424201175dc2afc5f14b9f16749b177c",
        "trusted": false
      },
      "cell_type": "code",
      "source": "class SklearnWrapper(object):\n    def __init__(self, clf, seed=0, params=None, seed_bool = True):\n        if(seed_bool == True):\n            params['random_state'] = seed\n        self.clf = clf(**params)\n\n    def train(self, x_train, y_train):\n        self.clf.fit(x_train, y_train)\n\n    def predict(self, x):\n        return self.clf.predict(x)\n        \ndef get_oof(clf, x_train, y, x_test):\n    oof_train = np.zeros((ntrain,))\n    oof_test = np.zeros((ntest,))\n    oof_test_skf = np.empty((NFOLDS, ntest))\n\n    for i, (train_index, test_index) in enumerate(kf):\n        print('\\nFold {}'.format(i))\n        x_tr = x_train[train_index]\n        y_tr = y[train_index]\n        x_te = x_train[test_index]\n\n        clf.train(x_tr, y_tr)\n\n        oof_train[test_index] = clf.predict(x_te)\n        oof_test_skf[i, :] = clf.predict(x_test)\n\n    oof_test[:] = oof_test_skf.mean(axis=0)\n    return oof_train.reshape(-1, 1), oof_test.reshape(-1, 1)",
      "execution_count": null,
      "outputs": []
    },
    {
      "metadata": {
        "collapsed": true,
        "_cell_guid": "ac1383b8-35e7-4d39-8f16-cef008b3d478",
        "_uuid": "d3f98ce2594763d88506154a0458dbe5a5845d5a",
        "trusted": false
      },
      "cell_type": "code",
      "source": "ridge_params = {'alpha':20.0, 'fit_intercept':True, 'normalize':False, 'copy_X':True,\n                'max_iter':None, 'tol':0.001, 'solver':'auto', 'random_state':SEED}",
      "execution_count": null,
      "outputs": []
    },
    {
      "metadata": {
        "collapsed": true,
        "_cell_guid": "3abc9fc2-da1a-4737-9049-b7b3482462e4",
        "_uuid": "11d9ee5516f7f3060bf1970650f79561efe888f0",
        "trusted": false
      },
      "cell_type": "code",
      "source": "ridge = SklearnWrapper(clf=Ridge, seed = SEED, params = ridge_params)\nridge_oof_train, ridge_oof_test = get_oof(ridge, ready_train, y, ready_test)",
      "execution_count": null,
      "outputs": []
    },
    {
      "metadata": {
        "collapsed": true,
        "_cell_guid": "9b67aa87-67bc-4f6f-b546-8d95995242f8",
        "_uuid": "78daaba649ca3c895cd2607099d1379deed2157e",
        "trusted": false
      },
      "cell_type": "code",
      "source": "train['ridge_preds'] = ridge_oof_train\ntest['ridge_preds'] = ridge_oof_test",
      "execution_count": null,
      "outputs": []
    },
    {
      "metadata": {
        "collapsed": true,
        "_cell_guid": "36e5d0c5-7011-45c3-a3b3-21554f2fc695",
        "_uuid": "e87a7f95b9d2326cd08b9534a44c926153ae13f5",
        "trusted": false
      },
      "cell_type": "code",
      "source": "remove_feats = ['title','description','activation_date','image',]\ntrain.drop(remove_feats, axis=1,inplace=True)\ntest.drop(remove_feats, axis=1,inplace=True)",
      "execution_count": null,
      "outputs": []
    },
    {
      "metadata": {
        "collapsed": true,
        "_cell_guid": "0bf0b227-0cfc-4af1-b4d1-0fec67e91d81",
        "_uuid": "5d2254ac27db4cfadc98059100159e7f28ab4a9c",
        "trusted": false
      },
      "cell_type": "code",
      "source": "predictors = list(train.columns.values)",
      "execution_count": null,
      "outputs": []
    },
    {
      "metadata": {
        "collapsed": true,
        "_cell_guid": "7e377fe0-595d-4443-aca6-1600dbb9e7f8",
        "_uuid": "fd513abcb2e9fba2a15d4975900698f932c39c31",
        "trusted": false
      },
      "cell_type": "code",
      "source": "predictors.remove('deal_probability')",
      "execution_count": null,
      "outputs": []
    },
    {
      "metadata": {
        "collapsed": true,
        "_cell_guid": "ed37857d-b38b-4f5d-9e15-72a3a9363769",
        "_uuid": "4b83f77f4d2dbc1fa9e3b37649b9b9566befde8c",
        "trusted": false
      },
      "cell_type": "code",
      "source": "predictors",
      "execution_count": null,
      "outputs": []
    },
    {
      "metadata": {
        "_cell_guid": "62ba5d27-aaa9-4a5e-bf66-b8e94075ee03",
        "_uuid": "e3d6eb9f625ab12ad020ea0b9d1b36f3e729b876"
      },
      "cell_type": "markdown",
      "source": "LGB Model"
    },
    {
      "metadata": {
        "collapsed": true,
        "_cell_guid": "a1a0a765-4271-410c-867d-3e59d49d4f6c",
        "_uuid": "f3e777e1b1f8ca8d8b37c07e57f8aa51a9774206",
        "trusted": false
      },
      "cell_type": "code",
      "source": "rounds = 16000\nearly_stop_rounds = 30\nparams = {\n    'boosting_type': 'gbdt',\n    'objective' : 'regression',\n    'metric' : 'rmse',\n    'num_leaves' : 250,\n    'max_depth': 15,\n    'learning_rate' : 0.02,\n    'feature_fraction' : 0.7,\n    'bagging_fraction' : 0.85,\n    'verbosity' : -1\n}\nfeature_names = np.hstack([\n    count_vectorizer_desc.get_feature_names(),\n    count_vectorizer_title.get_feature_names(),\n    predictors\n])\nprint('Number of features:', len(feature_names))\n",
      "execution_count": null,
      "outputs": []
    },
    {
      "metadata": {
        "collapsed": true,
        "_cell_guid": "3fad9eb0-eda8-4d8d-8817-7b774e757b14",
        "_uuid": "2b5eb87c30cd2c2edeab59ff41f7e9aed173b1a1",
        "trusted": false
      },
      "cell_type": "code",
      "source": "train_index, valid_index = train_test_split(np.arange(len(train)), test_size=0.1, random_state=42)\n\nx_train = scipy.sparse.hstack([\n        train_desc_counts[train_index],\n        train_title_counts[train_index],\n        train.loc[train_index, predictors]\n], format='csr')\ny_train = train.loc[train_index, target]\n\nx_valid = scipy.sparse.hstack([\n    train_desc_counts[valid_index],\n    train_title_counts[valid_index],\n    train.loc[valid_index, predictors]\n], format='csr')\ny_valid = train.loc[valid_index, target]\n\nx_test = scipy.sparse.hstack([\n    test_desc_counts,\n    test_title_counts,\n    test.loc[:, predictors]\n], format='csr')\n\ndtrain = lgb.Dataset(x_train, label=y_train,\n                     feature_name=list(feature_names), \n                     categorical_feature=categorical)\ndvalid = lgb.Dataset(x_valid, label=y_valid,\n                     feature_name=list(feature_names), \n                     categorical_feature=categorical)",
      "execution_count": null,
      "outputs": []
    },
    {
      "metadata": {
        "collapsed": true,
        "_cell_guid": "dac95bbd-bc9f-47b5-8068-e9092d5284c5",
        "_uuid": "1d9909075bf426cbd04149fbbf4a824b285b4fc5",
        "trusted": false
      },
      "cell_type": "code",
      "source": "evals_result = {}\nmodel = lgb.train(params, dtrain, \n                  valid_sets=[dtrain, dvalid], \n                  valid_names=['train', 'valid'],\n                  num_boost_round=rounds, \n                  early_stopping_rounds=early_stop_rounds, \n                  verbose_eval=100)",
      "execution_count": null,
      "outputs": []
    },
    {
      "metadata": {
        "collapsed": true,
        "_cell_guid": "abf2dfe0-814d-40ca-a000-c656bf1fc0b0",
        "_uuid": "90054315df846096d695e2564c2e5ab29e839edb",
        "trusted": false
      },
      "cell_type": "code",
      "source": "fig, ax = plt.subplots(figsize=(10, 14))\nlgb.plot_importance(model, max_num_features=50, ax=ax)\nplt.title(\"Light GBM Feature Importance\")",
      "execution_count": null,
      "outputs": []
    },
    {
      "metadata": {
        "collapsed": true,
        "_cell_guid": "826d5180-097f-492e-bbc0-ed5bbb7c52ef",
        "_uuid": "faa2d48530b6c869b6fbf37e3d4c0536a3b77276",
        "trusted": false
      },
      "cell_type": "code",
      "source": "subm = pd.read_csv('../input/avito-demand-prediction/sample_submission.csv')\nsubm['deal_probability'] = np.clip(model.predict(x_test), 0, 1)\nsubm.to_csv('lgb_submission.csv', index=False)",
      "execution_count": null,
      "outputs": []
    },
    {
      "metadata": {
        "collapsed": true,
        "_cell_guid": "472b1c21-b095-4982-a50f-f48c9ca1ecd4",
        "_uuid": "f49ce99659499b18599c025f739807d6ff233259",
        "trusted": false
      },
      "cell_type": "code",
      "source": "ridge_pred = pd.DataFrame(ridge_oof_test[:,0])\nridge_pred.to_csv('ridge_pred.csv', index=False)",
      "execution_count": null,
      "outputs": []
    },
    {
      "metadata": {
        "_cell_guid": "115babf9-7bca-46b8-9998-0a903f000ecc",
        "_uuid": "7f347c18039a7a8b902f1ecb96eb4036ee82356a"
      },
      "cell_type": "markdown",
      "source": ""
    }
  ],
  "metadata": {
    "kernelspec": {
      "display_name": "Python 3",
      "language": "python",
      "name": "python3"
    },
    "language_info": {
      "name": "python",
      "version": "3.6.5",
      "mimetype": "text/x-python",
      "codemirror_mode": {
        "name": "ipython",
        "version": 3
      },
      "pygments_lexer": "ipython3",
      "nbconvert_exporter": "python",
      "file_extension": ".py"
    }
  },
  "nbformat": 4,
  "nbformat_minor": 1
}