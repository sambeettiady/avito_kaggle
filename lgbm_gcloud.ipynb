{
 "cells": [
  {
   "cell_type": "code",
   "execution_count": 1,
   "metadata": {
    "_cell_guid": "b1076dfc-b9ad-4769-8c92-a6c4dae69d19",
    "_uuid": "8f2839f25d086af736a60e9eeb907d3b93b6e0e5",
    "collapsed": false
   },
   "outputs": [
    {
     "name": "stdout",
     "output_type": "stream",
     "text": [
      "['user_category_lda_model.expElogbeta.npy', 'avg_price_user_type.csv', 'user_category_lda_model', 'periods_test.pkl', 'periods_train.pkl', 'use_features.csv', 'periods_test.csv', 'user_category_lda_model_10p.state', 'sample_submission.csv', 'user_item_corpus.mm', 'avg_price_parent_category.csv', 'user_item_dict', 'train_active.pkl', 'user_category_lda_model.state', 'train_norm.csv', 'avg_price_category.csv', 'test_active.csv', 'user_item_dict_filt', 'user_category_lda_model.id2word', 'avg_price_region.csv', 'user_category_lda_model_10p.id2word', 'user_category_lda_model_10p.expElogbeta.npy', 'test_jpg.zip', 'periods_train.csv', 'test_active.pkl', 'train_active.csv', 'user_preference_features.csv', 'avg_price_image_top_1.csv', 'test.pkl', 'train.csv', 'user_cat_lda_5topics.csv', 'train.pkl', 'user_category_lda_model_10p', 'train_jpg.zip', 'test.csv', 'test_norm.csv', 'avg_price_city.csv', 'user_item_corpus.mm.index', 'all_concat.pkl']\n"
     ]
    }
   ],
   "source": [
    "import numpy as np # linear algebra\n",
    "import pandas as pd # data processing, CSV file I/O (e.g. pd.read_csv)\n",
    "\n",
    "import os\n",
    "os.chdir(\"/home/sambeett2019/.kaggle/competitions/avito-demand-prediction\")\n",
    "print(os.listdir('/home/sambeett2019/.kaggle/competitions/avito-demand-prediction'))\n",
    "import sys\n",
    "reload(sys)\n",
    "sys.setdefaultencoding('utf-8')"
   ]
  },
  {
   "cell_type": "code",
   "execution_count": 2,
   "metadata": {
    "_cell_guid": "79c7e3d0-c299-4dcb-8224-4455121ee9b0",
    "_uuid": "d629ff2d2480ee46fbb7e2d37f6b5fab8052498a",
    "collapsed": false
   },
   "outputs": [],
   "source": [
    "import gc\n",
    "from tqdm import tqdm\n",
    "import matplotlib.pyplot as plt\n",
    "import seaborn as sns\n",
    "from matplotlib_venn import venn2, venn2_circles\n",
    "import string\n",
    "from sklearn.model_selection import train_test_split\n",
    "from sklearn.metrics import mean_squared_error\n",
    "from sklearn.preprocessing import LabelEncoder\n",
    "from sklearn.feature_extraction.text import CountVectorizer, TfidfVectorizer\n",
    "import nltk\n",
    "from nltk.corpus import stopwords\n",
    "import scipy\n",
    "import lightgbm as lgb\n",
    "from math import sqrt\n",
    "from sklearn.linear_model import Ridge\n",
    "from sklearn.cross_validation import KFold\n",
    "from sklearn import feature_selection\n",
    "from sklearn.pipeline import FeatureUnion\n",
    "\n",
    "sns.set()\n",
    "%matplotlib inline"
   ]
  },
  {
   "cell_type": "code",
   "execution_count": 3,
   "metadata": {
    "_cell_guid": "8e4a8cce-9d93-4fbe-aacd-5df9e3585abd",
    "_uuid": "9250e45a16e7db5e6b0bdbdb27db911f67377205",
    "collapsed": true
   },
   "outputs": [],
   "source": [
    "SEED = 25\n",
    "NFOLDS = 5"
   ]
  },
  {
   "cell_type": "code",
   "execution_count": 4,
   "metadata": {
    "_cell_guid": "5099a376-16a3-448e-b0f8-34b50344eb40",
    "_uuid": "e084c137fd3a8d43161b583395df53740c378c27",
    "collapsed": false
   },
   "outputs": [],
   "source": [
    "train = pd.read_csv('train_norm.csv',index_col = \"item_id\", parse_dates = [\"activation_date\"])\n",
    "test = pd.read_csv('test_norm.csv', index_col = \"item_id\", parse_dates = [\"activation_date\"])"
   ]
  },
  {
   "cell_type": "code",
   "execution_count": 5,
   "metadata": {
    "_cell_guid": "d2a4037f-3322-49f3-96e6-dec4618081b2",
    "_uuid": "d467d3fc074e980980ed7219378381a12869a7e9",
    "collapsed": false
   },
   "outputs": [],
   "source": [
    "user_feat = pd.read_csv('use_features.csv')"
   ]
  },
  {
   "cell_type": "code",
   "execution_count": 6,
   "metadata": {
    "collapsed": false
   },
   "outputs": [],
   "source": [
    "print(os.listdir('/home/sambeett2019/.kaggle/competitions/avito-demand-prediction'))"
   ]
  },
  {
   "cell_type": "code",
   "execution_count": 7,
   "metadata": {
    "collapsed": true
   },
   "outputs": [],
   "source": [
    "#Price features\n",
    "avg_price_category = pd.read_csv('avg_price_category.csv')\n",
    "avg_price_parent_category = pd.read_csv('avg_price_parent_category.csv')\n",
    "avg_price_region = pd.read_csv('avg_price_region.csv')\n",
    "avg_price_city = pd.read_csv('avg_price_city.csv')\n",
    "avg_price_user_type = pd.read_csv('avg_price_user_type.csv')\n",
    "avg_price_image_top_1 = pd.read_csv('avg_price_image_top_1.csv')"
   ]
  },
  {
   "cell_type": "code",
   "execution_count": 8,
   "metadata": {
    "collapsed": true
   },
   "outputs": [],
   "source": [
    "#Preference features\n",
    "user_preference = pd.read_csv('user_preference_features.csv')"
   ]
  },
  {
   "cell_type": "code",
   "execution_count": 9,
   "metadata": {
    "collapsed": false
   },
   "outputs": [
    {
     "data": {
      "text/plain": [
       "(1009909, 9)"
      ]
     },
     "execution_count": 9,
     "metadata": {},
     "output_type": "execute_result"
    }
   ],
   "source": [
    "user_preference.shape"
   ]
  },
  {
   "cell_type": "code",
   "execution_count": 10,
   "metadata": {
    "collapsed": true
   },
   "outputs": [],
   "source": [
    "#LDA features\n",
    "user_cat_lda_features = pd.read_csv('user_cat_lda_5topics.csv')"
   ]
  },
  {
   "cell_type": "code",
   "execution_count": 11,
   "metadata": {
    "collapsed": false
   },
   "outputs": [
    {
     "data": {
      "text/plain": [
       "(4361601, 6)"
      ]
     },
     "execution_count": 11,
     "metadata": {},
     "output_type": "execute_result"
    }
   ],
   "source": [
    "user_cat_lda_features.shape"
   ]
  },
  {
   "cell_type": "code",
   "execution_count": 12,
   "metadata": {
    "_cell_guid": "307e174d-cc9f-4710-91bb-b61a3b295965",
    "_uuid": "fd4763a42f5fc7da847b1ce7bfffeb851c0d405e",
    "collapsed": false
   },
   "outputs": [
    {
     "data": {
      "text/plain": [
       "(1503424, 17)"
      ]
     },
     "execution_count": 12,
     "metadata": {},
     "output_type": "execute_result"
    }
   ],
   "source": [
    "train.shape"
   ]
  },
  {
   "cell_type": "code",
   "execution_count": 13,
   "metadata": {
    "collapsed": false
   },
   "outputs": [
    {
     "data": {
      "text/plain": [
       "Index([u'user_id', u'region', u'city', u'parent_category_name',\n",
       "       u'category_name', u'param_1', u'param_2', u'param_3', u'title',\n",
       "       u'description', u'price', u'item_seq_number', u'activation_date',\n",
       "       u'user_type', u'image', u'image_top_1', u'deal_probability'],\n",
       "      dtype='object')"
      ]
     },
     "execution_count": 13,
     "metadata": {},
     "output_type": "execute_result"
    }
   ],
   "source": [
    "train.columns"
   ]
  },
  {
   "cell_type": "code",
   "execution_count": 14,
   "metadata": {
    "_cell_guid": "6942c6b7-bc15-4775-b98f-02e06a3cc426",
    "_uuid": "aecaaf1300d45274822147f4d6c082486a6ac53e",
    "collapsed": true
   },
   "outputs": [],
   "source": [
    "train = train.merge(user_feat, on='user_id', how='left')\n",
    "test = test.merge(user_feat, on='user_id', how='left')"
   ]
  },
  {
   "cell_type": "code",
   "execution_count": 15,
   "metadata": {
    "collapsed": true
   },
   "outputs": [],
   "source": [
    "train = train.merge(user_preference, on='user_id', how='left')\n",
    "test = test.merge(user_preference, on='user_id', how='left')"
   ]
  },
  {
   "cell_type": "code",
   "execution_count": 16,
   "metadata": {
    "collapsed": true
   },
   "outputs": [],
   "source": [
    "train = train.merge(user_cat_lda_features, on='user_id', how='left')\n",
    "test = test.merge(user_cat_lda_features, on='user_id', how='left')"
   ]
  },
  {
   "cell_type": "code",
   "execution_count": 17,
   "metadata": {
    "collapsed": true
   },
   "outputs": [],
   "source": [
    "train = train.merge(avg_price_category, on='category_name', how='left')\n",
    "test = test.merge(avg_price_category, on='category_name', how='left')"
   ]
  },
  {
   "cell_type": "code",
   "execution_count": 18,
   "metadata": {
    "collapsed": true
   },
   "outputs": [],
   "source": [
    "train = train.merge(avg_price_parent_category, on='parent_category_name', how='left')\n",
    "test = test.merge(avg_price_parent_category, on='parent_category_name', how='left')"
   ]
  },
  {
   "cell_type": "code",
   "execution_count": 19,
   "metadata": {
    "collapsed": true
   },
   "outputs": [],
   "source": [
    "train = train.merge(avg_price_region, on='region', how='left')\n",
    "test = test.merge(avg_price_region, on='region', how='left')"
   ]
  },
  {
   "cell_type": "code",
   "execution_count": 20,
   "metadata": {
    "collapsed": true
   },
   "outputs": [],
   "source": [
    "train = train.merge(avg_price_city, on='city', how='left')\n",
    "test = test.merge(avg_price_city, on='city', how='left')"
   ]
  },
  {
   "cell_type": "code",
   "execution_count": 21,
   "metadata": {
    "collapsed": true
   },
   "outputs": [],
   "source": [
    "train = train.merge(avg_price_user_type, on='user_type', how='left')\n",
    "test = test.merge(avg_price_user_type, on='user_type', how='left')"
   ]
  },
  {
   "cell_type": "code",
   "execution_count": 22,
   "metadata": {
    "collapsed": true
   },
   "outputs": [],
   "source": [
    "train = train.merge(avg_price_image_top_1, on='image_top_1', how='left')\n",
    "test = test.merge(avg_price_image_top_1, on='image_top_1', how='left')"
   ]
  },
  {
   "cell_type": "code",
   "execution_count": 23,
   "metadata": {
    "_cell_guid": "5c98192c-1258-454b-b694-87de01322fc7",
    "_uuid": "c0ae72796d681fc0e57cdf1fc03d426e89cc7afb",
    "collapsed": true
   },
   "outputs": [],
   "source": [
    "ntrain = train.shape[0]\n",
    "ntest = test.shape[0]\n",
    "\n",
    "kf = KFold(ntrain, n_folds=5, shuffle=True, random_state=SEED)\n",
    "y = train.deal_probability.copy()"
   ]
  },
  {
   "cell_type": "code",
   "execution_count": 24,
   "metadata": {
    "_cell_guid": "aa64cdb6-edc2-4884-8023-2301f1a73448",
    "_uuid": "db762198d400d7523a8b76e05c0fe24aed7940e2",
    "collapsed": true
   },
   "outputs": [],
   "source": [
    "count = lambda l1,l2: sum([1 for x in l1 if x in l2])\n",
    "agg_cols = list(user_feat.columns)[1:]"
   ]
  },
  {
   "cell_type": "code",
   "execution_count": 25,
   "metadata": {
    "_cell_guid": "531e5169-f8f4-426b-9d7a-a7131e7b1b0a",
    "_uuid": "3e3d35f27bf52cc46b27cec32ab4960965f876d7",
    "collapsed": false
   },
   "outputs": [
    {
     "data": {
      "text/plain": [
       "133"
      ]
     },
     "execution_count": 25,
     "metadata": {},
     "output_type": "execute_result"
    }
   ],
   "source": [
    "del user_feat, user_preference, user_cat_lda_features, avg_price_category, avg_price_city, avg_price_image_top_1, avg_price_parent_category, avg_price_region, avg_price_user_type \n",
    "gc.collect()"
   ]
  },
  {
   "cell_type": "code",
   "execution_count": 26,
   "metadata": {
    "_cell_guid": "869d9a22-500a-4541-8bb6-9f1635f5f246",
    "_uuid": "012e5d20be3068156b8bb1048c93b2f5014d8931",
    "collapsed": false
   },
   "outputs": [],
   "source": [
    "stop_words= set(stopwords.words('russian'))"
   ]
  },
  {
   "cell_type": "code",
   "execution_count": 27,
   "metadata": {
    "_cell_guid": "b8a55d2f-3d9f-4fbe-b7bb-2c84407d79d5",
    "_uuid": "46b2ccf1ab1d60d28bd07b0b3bd51ce3c7fb442d",
    "collapsed": true
   },
   "outputs": [],
   "source": [
    "count = lambda l1,l2: sum([1 for x in l1 if x in l2])\n",
    "\n",
    "for df in [train, test]:\n",
    "\n",
    "    df['description'].fillna('unknowndescription', inplace=True)\n",
    "    df['title'].fillna('unknowntitle', inplace=True)\n",
    "    df['param_1'].fillna('unknownparam1', inplace=True)\n",
    "    df['param_2'].fillna('unknownparam2', inplace=True)\n",
    "    df['param_3'].fillna('unknownparam3', inplace=True)\n",
    "   \n",
    "    df['weekday'] = pd.to_datetime(df['activation_date']).dt.day\n",
    "    df[\"Weekd of Year\"] = pd.to_datetime(df['activation_date']).dt.week\n",
    "    df[\"Day of Month\"] = pd.to_datetime(df['activation_date']).dt.day\n",
    "\n",
    "    for col in ['description', 'title']:\n",
    "        df['num_chars_' + col] = df[col].apply(len)\n",
    "        df['num_words_' + col] = df[col].apply(lambda comment: len(comment.split()))\n",
    "        df['num_unique_words_' + col] = df[col].apply(lambda comment: len(set(w for w in comment.split())))\n",
    "#        df['title_word_coun_' + col] = df['description'].apply(lambda x: len([wrd for wrd in x.split() if wrd.istitle()]))\n",
    "#        df['upper_case_word_count_' + col] = df['description'].apply(lambda x: len([wrd for wrd in x.split() if wrd.isupper()]))\n",
    "#        df['stopword_count_' + col] = df['description'].apply(lambda x: len([wrd for wrd in x.split() if wrd.lower() in stop_words ]))\n",
    "#        df['num_desc_punct_' + col] = df['description'].apply(lambda x: count(x, set(string.punctuation)))\n",
    "\n",
    "    df['words_vs_unique_title'] = df['num_unique_words_title'] / df['num_words_title'] * 100\n",
    "    df['words_vs_unique_description'] = df['num_unique_words_description'] / df['num_words_description'] * 100\n",
    "\n",
    "    df['city'] = df['region'] + '_' + df['city']              ##combine city and region\n",
    "    \n",
    "    for col in agg_cols:\n",
    "        df[col].fillna(-1, inplace=True)\n",
    "    df[\"price\"] = np.log(df[\"price\"]+0.001)\n",
    "    df[\"price\"].fillna(-999,inplace=True)\n",
    "\n",
    "    "
   ]
  },
  {
   "cell_type": "markdown",
   "metadata": {
    "_cell_guid": "841c9f50-7798-4808-9aab-a8717f4b0d3b",
    "_uuid": "9552cc69789d7d2e9c319f88f28e708b26e78782"
   },
   "source": [
    "Tf - IDF"
   ]
  },
  {
   "cell_type": "code",
   "execution_count": 28,
   "metadata": {
    "_cell_guid": "bc3cd984-2e03-47b1-b7ef-cc19118ffb8e",
    "_uuid": "2c83892065218ffa6a570ad8da9a332c9d7ffcca",
    "collapsed": false
   },
   "outputs": [
    {
     "data": {
      "text/plain": [
       "((1503424, 24392), (1503424, 18000))"
      ]
     },
     "execution_count": 28,
     "metadata": {},
     "output_type": "execute_result"
    }
   ],
   "source": [
    "count_vectorizer_title = CountVectorizer(stop_words=stopwords.words('russian'), lowercase=True, min_df=10)\n",
    "\n",
    "title_counts = count_vectorizer_title.fit_transform(train['title'].append(test['title']))\n",
    "\n",
    "train_title_counts = title_counts[:len(train)]\n",
    "test_title_counts = title_counts[len(train):]\n",
    "\n",
    "\n",
    "count_vectorizer_desc = TfidfVectorizer(stop_words=stopwords.words('russian'), \n",
    "                                        lowercase=True, ngram_range=(1, 2),\n",
    "                                        max_features=18000)\n",
    "\n",
    "desc_counts = count_vectorizer_desc.fit_transform(train['description'].append(test['description']))\n",
    "\n",
    "train_desc_counts = desc_counts[:len(train)]\n",
    "test_desc_counts = desc_counts[len(train):]\n",
    "\n",
    "train_title_counts.shape, train_desc_counts.shape"
   ]
  },
  {
   "cell_type": "code",
   "execution_count": 29,
   "metadata": {
    "_cell_guid": "5a851edd-06ea-4d7e-95ee-cd4fa83f84fa",
    "_uuid": "4ae5b7401560fb0c6f9ff8bd7c5b3298f4c54d43",
    "collapsed": true
   },
   "outputs": [],
   "source": [
    "ready_train = scipy.sparse.hstack([ train_desc_counts,train_title_counts], format='csr')\n",
    "ready_test = scipy.sparse.hstack([ test_desc_counts,test_title_counts], format='csr')"
   ]
  },
  {
   "cell_type": "code",
   "execution_count": 30,
   "metadata": {
    "_cell_guid": "49df591b-1209-432b-9787-5145da850c9f",
    "_uuid": "f395741a3336255823591827d391c206f7bfba83",
    "collapsed": true
   },
   "outputs": [],
   "source": [
    "target = 'deal_probability'\n",
    "categorical = ['image_top_1', 'param_1', 'param_2', 'param_3', 'city', 'region', 'category_name', 'parent_category_name',\n",
    "               'user_type','preferred_category','preferred_parent_category','preferred_region','preferred_city']"
   ]
  },
  {
   "cell_type": "code",
   "execution_count": 31,
   "metadata": {
    "_cell_guid": "03eec214-5c86-4842-b271-45197434c973",
    "_uuid": "63d1a11469e39f3cd87e4f7450c6842c788bfcda",
    "collapsed": false
   },
   "outputs": [],
   "source": [
    "for feature in categorical:\n",
    "    print 'Transforming {feature}...'\n",
    "    encoder = LabelEncoder()\n",
    "    encoder.fit(train[feature].append(test[feature]).astype(str))\n",
    "    \n",
    "    train[feature] = encoder.transform(train[feature].astype(str))\n",
    "    test[feature] = encoder.transform(test[feature].astype(str))"
   ]
  },
  {
   "cell_type": "code",
   "execution_count": 32,
   "metadata": {
    "_cell_guid": "b80b3fe7-5c6e-4d7b-bb9b-5bbe1ee2d7f7",
    "_uuid": "c46cd24c424201175dc2afc5f14b9f16749b177c",
    "collapsed": true
   },
   "outputs": [],
   "source": [
    "class SklearnWrapper(object):\n",
    "    def __init__(self, clf, seed=0, params=None, seed_bool = True):\n",
    "        if(seed_bool == True):\n",
    "            params['random_state'] = seed\n",
    "        self.clf = clf(**params)\n",
    "\n",
    "    def train(self, x_train, y_train):\n",
    "        self.clf.fit(x_train, y_train)\n",
    "\n",
    "    def predict(self, x):\n",
    "        return self.clf.predict(x)\n",
    "        \n",
    "def get_oof(clf, x_train, y, x_test):\n",
    "    oof_train = np.zeros((ntrain,))\n",
    "    oof_test = np.zeros((ntest,))\n",
    "    oof_test_skf = np.empty((NFOLDS, ntest))\n",
    "\n",
    "    for i, (train_index, test_index) in enumerate(kf):\n",
    "        print('\\nFold {}'.format(i))\n",
    "        x_tr = x_train[train_index]\n",
    "        y_tr = y[train_index]\n",
    "        x_te = x_train[test_index]\n",
    "\n",
    "        clf.train(x_tr, y_tr)\n",
    "\n",
    "        oof_train[test_index] = clf.predict(x_te)\n",
    "        oof_test_skf[i, :] = clf.predict(x_test)\n",
    "\n",
    "    oof_test[:] = oof_test_skf.mean(axis=0)\n",
    "    return oof_train.reshape(-1, 1), oof_test.reshape(-1, 1)"
   ]
  },
  {
   "cell_type": "code",
   "execution_count": 33,
   "metadata": {
    "_cell_guid": "ac1383b8-35e7-4d39-8f16-cef008b3d478",
    "_uuid": "d3f98ce2594763d88506154a0458dbe5a5845d5a",
    "collapsed": true
   },
   "outputs": [],
   "source": [
    "ridge_params = {'alpha':20.0, 'fit_intercept':True, 'normalize':False, 'copy_X':True,\n",
    "                'max_iter':None, 'tol':0.001, 'solver':'auto', 'random_state':SEED}"
   ]
  },
  {
   "cell_type": "code",
   "execution_count": 34,
   "metadata": {
    "_cell_guid": "3abc9fc2-da1a-4737-9049-b7b3482462e4",
    "_uuid": "11d9ee5516f7f3060bf1970650f79561efe888f0",
    "collapsed": false
   },
   "outputs": [],
   "source": [
    "ridge = SklearnWrapper(clf=Ridge, seed = SEED, params = ridge_params)\n",
    "ridge_oof_train, ridge_oof_test = get_oof(ridge, ready_train, y, ready_test)"
   ]
  },
  {
   "cell_type": "code",
   "execution_count": 35,
   "metadata": {
    "_cell_guid": "9b67aa87-67bc-4f6f-b546-8d95995242f8",
    "_uuid": "78daaba649ca3c895cd2607099d1379deed2157e",
    "collapsed": true
   },
   "outputs": [],
   "source": [
    "train['ridge_preds'] = ridge_oof_train\n",
    "test['ridge_preds'] = ridge_oof_test"
   ]
  },
  {
   "cell_type": "code",
   "execution_count": 36,
   "metadata": {
    "_cell_guid": "36e5d0c5-7011-45c3-a3b3-21554f2fc695",
    "_uuid": "e87a7f95b9d2326cd08b9534a44c926153ae13f5",
    "collapsed": true
   },
   "outputs": [],
   "source": [
    "remove_feats = ['title','description','activation_date','image','user_id']\n",
    "train.drop(remove_feats, axis=1,inplace=True)\n",
    "test.drop(remove_feats, axis=1,inplace=True)"
   ]
  },
  {
   "cell_type": "code",
   "execution_count": 37,
   "metadata": {
    "_cell_guid": "0bf0b227-0cfc-4af1-b4d1-0fec67e91d81",
    "_uuid": "5d2254ac27db4cfadc98059100159e7f28ab4a9c",
    "collapsed": true
   },
   "outputs": [],
   "source": [
    "predictors = list(train.columns.values)"
   ]
  },
  {
   "cell_type": "code",
   "execution_count": 38,
   "metadata": {
    "_cell_guid": "7e377fe0-595d-4443-aca6-1600dbb9e7f8",
    "_uuid": "fd513abcb2e9fba2a15d4975900698f932c39c31",
    "collapsed": true
   },
   "outputs": [],
   "source": [
    "predictors.remove('deal_probability')"
   ]
  },
  {
   "cell_type": "code",
   "execution_count": 39,
   "metadata": {
    "_cell_guid": "ed37857d-b38b-4f5d-9e15-72a3a9363769",
    "_uuid": "4b83f77f4d2dbc1fa9e3b37649b9b9566befde8c",
    "collapsed": false
   },
   "outputs": [
    {
     "data": {
      "text/plain": [
       "['region',\n",
       " 'city',\n",
       " 'parent_category_name',\n",
       " 'category_name',\n",
       " 'param_1',\n",
       " 'param_2',\n",
       " 'param_3',\n",
       " 'price',\n",
       " 'item_seq_number',\n",
       " 'user_type',\n",
       " 'image_top_1',\n",
       " 'avg_days_up_user',\n",
       " 'avg_times_up_user',\n",
       " 'n_user_items',\n",
       " 'n_items_per_day',\n",
       " 'preferred_category',\n",
       " 'preferred_parent_category',\n",
       " 'preferred_region',\n",
       " 'preferred_city',\n",
       " 'unique_categories',\n",
       " 'unique_parent_categories',\n",
       " 'unique_regions',\n",
       " 'unique_cities',\n",
       " 'user_cat_topic_1',\n",
       " 'user_cat_topic_2',\n",
       " 'user_cat_topic_3',\n",
       " 'user_cat_topic_4',\n",
       " 'user_cat_topic_5',\n",
       " 'avg_price_category',\n",
       " 'avg_price_parent_category',\n",
       " 'avg_price_region',\n",
       " 'avg_price_city',\n",
       " 'avg_price_user_type',\n",
       " 'avg_price_image_top_1',\n",
       " 'weekday',\n",
       " 'Weekd of Year',\n",
       " 'Day of Month',\n",
       " 'num_chars_description',\n",
       " 'num_words_description',\n",
       " 'num_unique_words_description',\n",
       " 'num_chars_title',\n",
       " 'num_words_title',\n",
       " 'num_unique_words_title',\n",
       " 'words_vs_unique_title',\n",
       " 'words_vs_unique_description',\n",
       " 'ridge_preds']"
      ]
     },
     "execution_count": 39,
     "metadata": {},
     "output_type": "execute_result"
    }
   ],
   "source": [
    "predictors"
   ]
  },
  {
   "cell_type": "markdown",
   "metadata": {
    "_cell_guid": "62ba5d27-aaa9-4a5e-bf66-b8e94075ee03",
    "_uuid": "e3d6eb9f625ab12ad020ea0b9d1b36f3e729b876"
   },
   "source": [
    "LGB Model"
   ]
  },
  {
   "cell_type": "code",
   "execution_count": 40,
   "metadata": {
    "_cell_guid": "a1a0a765-4271-410c-867d-3e59d49d4f6c",
    "_uuid": "f3e777e1b1f8ca8d8b37c07e57f8aa51a9774206",
    "collapsed": false
   },
   "outputs": [],
   "source": [
    "rounds = 16000\n",
    "early_stop_rounds = 30\n",
    "params = {\n",
    "    'boosting_type': 'gbdt',\n",
    "    'objective' : 'regression',\n",
    "    'metric' : 'rmse',\n",
    "    'num_leaves' : 250,\n",
    "    'max_depth': 15,\n",
    "    'learning_rate' : 0.02,\n",
    "    'feature_fraction' : 0.7,\n",
    "    'bagging_fraction' : 0.85,\n",
    "    'verbosity' : -1\n",
    "}\n",
    "feature_names = np.hstack([\n",
    "    count_vectorizer_desc.get_feature_names(),\n",
    "    count_vectorizer_title.get_feature_names(),\n",
    "    predictors\n",
    "])\n",
    "print('Number of features:', len(feature_names))\n"
   ]
  },
  {
   "cell_type": "code",
   "execution_count": 41,
   "metadata": {
    "_cell_guid": "3fad9eb0-eda8-4d8d-8817-7b774e757b14",
    "_uuid": "2b5eb87c30cd2c2edeab59ff41f7e9aed173b1a1",
    "collapsed": true
   },
   "outputs": [],
   "source": [
    "train_index, valid_index = train_test_split(np.arange(len(train)), test_size=0.1, random_state=42)\n",
    "\n",
    "x_train = scipy.sparse.hstack([\n",
    "        train_desc_counts[train_index],\n",
    "        train_title_counts[train_index],\n",
    "        train.loc[train_index, predictors]\n",
    "], format='csr')\n",
    "y_train = train.loc[train_index, target]\n",
    "\n",
    "x_valid = scipy.sparse.hstack([\n",
    "    train_desc_counts[valid_index],\n",
    "    train_title_counts[valid_index],\n",
    "    train.loc[valid_index, predictors]\n",
    "], format='csr')\n",
    "y_valid = train.loc[valid_index, target]\n",
    "\n",
    "x_test = scipy.sparse.hstack([\n",
    "    test_desc_counts,\n",
    "    test_title_counts,\n",
    "    test.loc[:, predictors]\n",
    "], format='csr')\n",
    "\n",
    "dtrain = lgb.Dataset(x_train, label=y_train,\n",
    "                     feature_name=list(feature_names), \n",
    "                     categorical_feature=categorical)\n",
    "dvalid = lgb.Dataset(x_valid, label=y_valid,\n",
    "                     feature_name=list(feature_names), \n",
    "                     categorical_feature=categorical)"
   ]
  },
  {
   "cell_type": "code",
   "execution_count": 43,
   "metadata": {
    "_cell_guid": "dac95bbd-bc9f-47b5-8068-e9092d5284c5",
    "_uuid": "1d9909075bf426cbd04149fbbf4a824b285b4fc5",
    "collapsed": false
   },
   "outputs": [
    {
     "ename": "LightGBMError",
     "evalue": "Cannot set categorical feature after freed raw data, set free_raw_data=False when construct Dataset to avoid this.",
     "output_type": "error",
     "traceback": [
      "\u001b[1;31m---------------------------------------------------------------------------\u001b[0m",
      "\u001b[1;31mLightGBMError\u001b[0m                             Traceback (most recent call last)",
      "\u001b[1;32m<ipython-input-43-2edd5857ee18>\u001b[0m in \u001b[0;36m<module>\u001b[1;34m()\u001b[0m\n\u001b[0;32m      5\u001b[0m                   \u001b[0mnum_boost_round\u001b[0m\u001b[1;33m=\u001b[0m\u001b[0mrounds\u001b[0m\u001b[1;33m,\u001b[0m\u001b[1;33m\u001b[0m\u001b[0m\n\u001b[0;32m      6\u001b[0m                   \u001b[0mearly_stopping_rounds\u001b[0m\u001b[1;33m=\u001b[0m\u001b[0mearly_stop_rounds\u001b[0m\u001b[1;33m,\u001b[0m\u001b[1;33m\u001b[0m\u001b[0m\n\u001b[1;32m----> 7\u001b[1;33m                   verbose_eval=100)\n\u001b[0m\u001b[0;32m      8\u001b[0m \u001b[0mmodel\u001b[0m\u001b[1;33m.\u001b[0m\u001b[0msave\u001b[0m\u001b[1;33m(\u001b[0m\u001b[1;34m'abcd'\u001b[0m\u001b[1;33m)\u001b[0m\u001b[1;33m\u001b[0m\u001b[0m\n",
      "\u001b[1;32m/home/sambeett2019/anaconda2/lib/python2.7/site-packages/lightgbm/engine.pyc\u001b[0m in \u001b[0;36mtrain\u001b[1;34m(params, train_set, num_boost_round, valid_sets, valid_names, fobj, feval, init_model, feature_name, categorical_feature, early_stopping_rounds, evals_result, verbose_eval, learning_rates, keep_training_booster, callbacks)\u001b[0m\n\u001b[0;32m    121\u001b[0m     \u001b[0mtrain_set\u001b[0m\u001b[1;33m.\u001b[0m\u001b[0m_set_predictor\u001b[0m\u001b[1;33m(\u001b[0m\u001b[0mpredictor\u001b[0m\u001b[1;33m)\u001b[0m\u001b[1;33m\u001b[0m\u001b[0m\n\u001b[0;32m    122\u001b[0m     \u001b[0mtrain_set\u001b[0m\u001b[1;33m.\u001b[0m\u001b[0mset_feature_name\u001b[0m\u001b[1;33m(\u001b[0m\u001b[0mfeature_name\u001b[0m\u001b[1;33m)\u001b[0m\u001b[1;33m\u001b[0m\u001b[0m\n\u001b[1;32m--> 123\u001b[1;33m     \u001b[0mtrain_set\u001b[0m\u001b[1;33m.\u001b[0m\u001b[0mset_categorical_feature\u001b[0m\u001b[1;33m(\u001b[0m\u001b[0mcategorical_feature\u001b[0m\u001b[1;33m)\u001b[0m\u001b[1;33m\u001b[0m\u001b[0m\n\u001b[0m\u001b[0;32m    124\u001b[0m \u001b[1;33m\u001b[0m\u001b[0m\n\u001b[0;32m    125\u001b[0m     \u001b[0mis_valid_contain_train\u001b[0m \u001b[1;33m=\u001b[0m \u001b[0mFalse\u001b[0m\u001b[1;33m\u001b[0m\u001b[0m\n",
      "\u001b[1;32m/home/sambeett2019/anaconda2/lib/python2.7/site-packages/lightgbm/basic.pyc\u001b[0m in \u001b[0;36mset_categorical_feature\u001b[1;34m(self, categorical_feature)\u001b[0m\n\u001b[0;32m   1040\u001b[0m                 \u001b[0mself\u001b[0m\u001b[1;33m.\u001b[0m\u001b[0m_free_handle\u001b[0m\u001b[1;33m(\u001b[0m\u001b[1;33m)\u001b[0m\u001b[1;33m\u001b[0m\u001b[0m\n\u001b[0;32m   1041\u001b[0m         \u001b[1;32melse\u001b[0m\u001b[1;33m:\u001b[0m\u001b[1;33m\u001b[0m\u001b[0m\n\u001b[1;32m-> 1042\u001b[1;33m             \u001b[1;32mraise\u001b[0m \u001b[0mLightGBMError\u001b[0m\u001b[1;33m(\u001b[0m\u001b[1;34m\"Cannot set categorical feature after freed raw data, set free_raw_data=False when construct Dataset to avoid this.\"\u001b[0m\u001b[1;33m)\u001b[0m\u001b[1;33m\u001b[0m\u001b[0m\n\u001b[0m\u001b[0;32m   1043\u001b[0m \u001b[1;33m\u001b[0m\u001b[0m\n\u001b[0;32m   1044\u001b[0m     \u001b[1;32mdef\u001b[0m \u001b[0m_set_predictor\u001b[0m\u001b[1;33m(\u001b[0m\u001b[0mself\u001b[0m\u001b[1;33m,\u001b[0m \u001b[0mpredictor\u001b[0m\u001b[1;33m)\u001b[0m\u001b[1;33m:\u001b[0m\u001b[1;33m\u001b[0m\u001b[0m\n",
      "\u001b[1;31mLightGBMError\u001b[0m: Cannot set categorical feature after freed raw data, set free_raw_data=False when construct Dataset to avoid this."
     ]
    }
   ],
   "source": [
    "evals_result = {}\n",
    "model = lgb.train(params, dtrain, \n",
    "                  valid_sets=[dtrain, dvalid], \n",
    "                  valid_names=['train', 'valid'],\n",
    "                  num_boost_round=rounds, \n",
    "                  early_stopping_rounds=early_stop_rounds, \n",
    "                  verbose_eval=100)\n",
    "model.save('abcd')"
   ]
  },
  {
   "cell_type": "code",
   "execution_count": null,
   "metadata": {
    "_cell_guid": "abf2dfe0-814d-40ca-a000-c656bf1fc0b0",
    "_uuid": "90054315df846096d695e2564c2e5ab29e839edb",
    "collapsed": false
   },
   "outputs": [],
   "source": [
    "fig, ax = plt.subplots(figsize=(10, 14))\n",
    "lgb.plot_importance(model, max_num_features=50, ax=ax)\n",
    "plt.title(\"Light GBM Feature Importance\")"
   ]
  },
  {
   "cell_type": "code",
   "execution_count": null,
   "metadata": {
    "_cell_guid": "826d5180-097f-492e-bbc0-ed5bbb7c52ef",
    "_uuid": "faa2d48530b6c869b6fbf37e3d4c0536a3b77276",
    "collapsed": true
   },
   "outputs": [],
   "source": [
    "subm = pd.read_csv('sample_submission.csv')\n",
    "subm['deal_probability'] = np.clip(model.predict(x_test), 0, 1)\n",
    "subm.to_csv('lgb_submission.csv', index=False)"
   ]
  },
  {
   "cell_type": "code",
   "execution_count": null,
   "metadata": {
    "_cell_guid": "472b1c21-b095-4982-a50f-f48c9ca1ecd4",
    "_uuid": "f49ce99659499b18599c025f739807d6ff233259",
    "collapsed": true
   },
   "outputs": [],
   "source": [
    "ridge_pred = pd.DataFrame(ridge_oof_test[:,0])\n",
    "ridge_pred.to_csv('ridge_pred.csv', index=False)"
   ]
  },
  {
   "cell_type": "markdown",
   "metadata": {
    "_cell_guid": "115babf9-7bca-46b8-9998-0a903f000ecc",
    "_uuid": "7f347c18039a7a8b902f1ecb96eb4036ee82356a"
   },
   "source": []
  }
 ],
 "metadata": {
  "kernelspec": {
   "display_name": "Python 2",
   "language": "python",
   "name": "python2"
  },
  "language_info": {
   "codemirror_mode": {
    "name": "ipython",
    "version": 2
   },
   "file_extension": ".py",
   "mimetype": "text/x-python",
   "name": "python",
   "nbconvert_exporter": "python",
   "pygments_lexer": "ipython2",
   "version": "2.7.13"
  }
 },
 "nbformat": 4,
 "nbformat_minor": 1
}
